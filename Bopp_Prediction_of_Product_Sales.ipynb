{
  "nbformat": 4,
  "nbformat_minor": 0,
  "metadata": {
    "colab": {
      "provenance": [],
      "authorship_tag": "ABX9TyMAlI4MxMX8t9fDM2gcDwVn",
      "include_colab_link": true
    },
    "kernelspec": {
      "name": "python3",
      "display_name": "Python 3"
    },
    "language_info": {
      "name": "python"
    }
  },
  "cells": [
    {
      "cell_type": "markdown",
      "metadata": {
        "id": "view-in-github",
        "colab_type": "text"
      },
      "source": [
        "<a href=\"https://colab.research.google.com/github/vcbanalyst/Prediction-of-Product-Sales/blob/main/Bopp_Prediction_of_Product_Sales.ipynb\" target=\"_parent\"><img src=\"https://colab.research.google.com/assets/colab-badge.svg\" alt=\"Open In Colab\"/></a>"
      ]
    },
    {
      "cell_type": "markdown",
      "source": [
        "#Project Title: Prediction of Product Sales"
      ],
      "metadata": {
        "id": "T0g0lFYu5KZW"
      }
    },
    {
      "cell_type": "markdown",
      "source": [
        "####Author: Vanessa Bopp"
      ],
      "metadata": {
        "id": "tWBUhUfg5TNj"
      }
    },
    {
      "cell_type": "markdown",
      "source": [
        "##Project Overview"
      ],
      "metadata": {
        "id": "1Rxje_P55WqJ"
      }
    },
    {
      "cell_type": "code",
      "source": [],
      "metadata": {
        "id": "RuG9U-Nb59qx"
      },
      "execution_count": null,
      "outputs": []
    },
    {
      "cell_type": "markdown",
      "source": [
        "##Load and Inspect Data"
      ],
      "metadata": {
        "id": "DAyAEhrg5lRS"
      }
    },
    {
      "cell_type": "code",
      "source": [],
      "metadata": {
        "id": "nnlbhv185-Wt"
      },
      "execution_count": null,
      "outputs": []
    },
    {
      "cell_type": "markdown",
      "source": [
        "##Clean Data"
      ],
      "metadata": {
        "id": "B0ZTu-Zx5lHA"
      }
    },
    {
      "cell_type": "code",
      "source": [],
      "metadata": {
        "id": "moS82_9h5_jv"
      },
      "execution_count": null,
      "outputs": []
    },
    {
      "cell_type": "markdown",
      "source": [
        "##Exploratory Data Analysis"
      ],
      "metadata": {
        "id": "zaCKyOsV5kyY"
      }
    },
    {
      "cell_type": "code",
      "source": [],
      "metadata": {
        "id": "2FQ9L11L6ATl"
      },
      "execution_count": null,
      "outputs": []
    },
    {
      "cell_type": "markdown",
      "source": [
        "##Explanatory Data Analysis"
      ],
      "metadata": {
        "id": "-QGJsQAX5kX-"
      }
    },
    {
      "cell_type": "code",
      "source": [],
      "metadata": {
        "id": "E524oJKb6At8"
      },
      "execution_count": null,
      "outputs": []
    }
  ]
}